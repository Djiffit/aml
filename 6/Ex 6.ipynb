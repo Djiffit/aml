{
 "cells": [
  {
   "cell_type": "code",
   "execution_count": 471,
   "metadata": {},
   "outputs": [],
   "source": [
    "import numpy as np\n",
    "from sklearn.tree import DecisionTreeClassifier\n",
    "from sklearn.model_selection import train_test_split\n",
    "from mnist import MNIST\n",
    "import matplotlib.pyplot as plt"
   ]
  },
  {
   "cell_type": "code",
   "execution_count": 45,
   "metadata": {},
   "outputs": [],
   "source": [
    "mndata = MNIST('./')\n",
    "images, labels = mndata.load_training()\n",
    "images = np.array(images)\n",
    "labels = np.array(labels)\n",
    "\n",
    "X_train, X_test, Y_train, Y_test = train_test_split(images, labels, test_size=1/6)\n",
    "\n",
    "train_length = X_train.shape[0]\n",
    "test_length = X_test.shape[0]\n",
    "features = X_train.shape[1]"
   ]
  },
  {
   "cell_type": "code",
   "execution_count": 468,
   "metadata": {},
   "outputs": [],
   "source": [
    "class RandomForest:\n",
    "    def __init__(self, n, k, M = 3000):\n",
    "        self.classifiers = []\n",
    "        self.M = M\n",
    "        self.k = k\n",
    "        self.n = n\n",
    "        self.learn()\n",
    "        \n",
    "    def learn(self):\n",
    "        for i in range(self.M):\n",
    "            subset = np.random.choice(train_length, self.n)\n",
    "            feats = np.random.choice(features, self.k)\n",
    "            tree_clf = DecisionTreeClassifier()\n",
    "            fit = tree_clf.fit([x[feats] for x in X_train[subset]], Y_train[subset])\n",
    "            self.classifiers += [[fit, feats]]\n",
    "            \n",
    "        self.classifiers = np.array(self.classifiers)\n",
    "    \n",
    "    def classify(self, x, y, maxM = 3000):\n",
    "        def get_probabilities(X):\n",
    "            def pad_zeros(p, c):\n",
    "                \n",
    "                if len(p) == 10:\n",
    "                    return p\n",
    "                \n",
    "                arr = [0] * 10\n",
    "                for prob, feat in zip(p[0], c):\n",
    "                    arr[feat] = prob\n",
    "                return np.array(arr)\n",
    "            \n",
    "            probs = np.array([pad_zeros(fit.predict_proba([X[feats]]), fit.classes_) for fit, feats in self.classifiers[:maxM]])\n",
    "            \n",
    "            return np.mean(probs, axis=0)\n",
    "        \n",
    "        y_hat = np.apply_along_axis(get_probabilities, 1, x)\n",
    "        \n",
    "        return sum(np.argmax(y_hat, axis=1) == y) / len(y)\n",
    "        \n"
   ]
  },
  {
   "cell_type": "code",
   "execution_count": null,
   "metadata": {},
   "outputs": [],
   "source": []
  },
  {
   "cell_type": "code",
   "execution_count": 463,
   "metadata": {},
   "outputs": [],
   "source": []
  },
  {
   "cell_type": "code",
   "execution_count": 543,
   "metadata": {},
   "outputs": [],
   "source": [
    "n_vals = [1, 5, 10, 25, 50, 100, 300, 500]\n",
    "locked_n = []\n",
    "\n",
    "for i in n_vals:\n",
    "    rand = np.random.choice(test_length, 500)\n",
    "    clf = RandomForest(i, features // 4, 100)\n",
    "    locked_n += [clf.classify(X_test[rand], Y_test[rand], 50)]\n",
    "\n"
   ]
  },
  {
   "cell_type": "code",
   "execution_count": 544,
   "metadata": {},
   "outputs": [
    {
     "data": {
      "image/png": "[encoded data removed]",
      "text/plain": [
       "<Figure size 432x288 with 1 Axes>"
      ]
     },
     "metadata": {
      "needs_background": "light"
     },
     "output_type": "display_data"
    }
   ],
   "source": [
    "plt.plot(n_vals, locked_n)\n",
    "plt.title('Validation accuracy as a function of n')\n",
    "plt.show()"
   ]
  },
  {
   "cell_type": "code",
   "execution_count": 476,
   "metadata": {},
   "outputs": [],
   "source": [
    "clf = RandomForest(250, features // 2, 3000)\n",
    "locked_M = []\n",
    "M_vals = [1, 10, 50, 100, 200, 300, 400]\n",
    "for i in M_vals:\n",
    "    rand = np.random.choice(test_length, 500)\n",
    "\n",
    "    locked_M += [clf.classify(X_test[rand], Y_test[rand], i)]\n"
   ]
  },
  {
   "cell_type": "code",
   "execution_count": 531,
   "metadata": {},
   "outputs": [
    {
     "data": {
      "image/png": "[encoded data removed]",
      "text/plain": [
       "<Figure size 432x288 with 1 Axes>"
      ]
     },
     "metadata": {
      "needs_background": "light"
     },
     "output_type": "display_data"
    }
   ],
   "source": [
    "plt.plot(M_vals, locked_M)\n",
    "plt.title('Validation accuracy as a function of M')\n",
    "plt.show()"
   ]
  },
  {
   "cell_type": "code",
   "execution_count": 547,
   "metadata": {},
   "outputs": [],
   "source": [
    "k_vals = [10, 25, 50, 75, features // 6, features // 4, features // 2, features]\n",
    "locked_k = []\n",
    "\n",
    "for i in k_vals:\n",
    "    rand = np.random.choice(test_length, 500)\n",
    "    clf = RandomForest(300, i, 200)\n",
    "    locked_k += [clf.classify(X_test[rand], Y_test[rand], 500)]\n",
    "\n"
   ]
  },
  {
   "cell_type": "code",
   "execution_count": 548,
   "metadata": {},
   "outputs": [
    {
     "data": {
      "image/png": "[encoded data removed]",
      "text/plain": [
       "<Figure size 432x288 with 1 Axes>"
      ]
     },
     "metadata": {
      "needs_background": "light"
     },
     "output_type": "display_data"
    }
   ],
   "source": [
    "plt.plot(k_vals, locked_k)\n",
    "plt.title('Validation accuracy as a function of k')\n",
    "plt.show()"
   ]
  },
  {
   "cell_type": "markdown",
   "metadata": {},
   "source": [
    "Validation accuracy seems to go over 90% when proper and sufficiently large parameters are used. M and n seemed to increase and plateau similarily nearly every time they were ran and k looks like it might be overfitting with large amount of parameters."
   ]
  },
  {
   "cell_type": "markdown",
   "metadata": {},
   "source": [
    "#3"
   ]
  },
  {
   "cell_type": "code",
   "execution_count": 513,
   "metadata": {},
   "outputs": [],
   "source": [
    "def func(x1, x2):\n",
    "    return x1**2*np.sin(x1**2 + np.exp(x2))"
   ]
  },
  {
   "cell_type": "code",
   "execution_count": 518,
   "metadata": {},
   "outputs": [
    {
     "data": {
      "text/plain": [
       "-3.770254007502416"
      ]
     },
     "execution_count": 518,
     "metadata": {},
     "output_type": "execute_result"
    }
   ],
   "source": [
    "(func(1,2+10e-5) - func(1, 2)) / 10e-5"
   ]
  },
  {
   "cell_type": "code",
   "execution_count": 519,
   "metadata": {},
   "outputs": [
    {
     "data": {
      "text/plain": [
       "0.7003100866043166"
      ]
     },
     "execution_count": 519,
     "metadata": {},
     "output_type": "execute_result"
    }
   ],
   "source": [
    "(func(1+10e-5, 2) - func(1, 2)) / 10e-5"
   ]
  },
  {
   "cell_type": "code",
   "execution_count": null,
   "metadata": {},
   "outputs": [],
   "source": []
  },
  {
   "cell_type": "code",
   "execution_count": null,
   "metadata": {},
   "outputs": [],
   "source": []
  },
  {
   "cell_type": "code",
   "execution_count": null,
   "metadata": {},
   "outputs": [],
   "source": []
  },
  {
   "cell_type": "code",
   "execution_count": null,
   "metadata": {},
   "outputs": [],
   "source": []
  },
  {
   "cell_type": "code",
   "execution_count": null,
   "metadata": {},
   "outputs": [],
   "source": []
  }
 ],
 "metadata": {
  "kernelspec": {
   "display_name": "Python 3",
   "language": "python",
   "name": "python3"
  },
  "language_info": {
   "codemirror_mode": {
    "name": "ipython",
    "version": 3
   },
   "file_extension": ".py",
   "mimetype": "text/x-python",
   "name": "python",
   "nbconvert_exporter": "python",
   "pygments_lexer": "ipython3",
   "version": "3.7.3"
  }
 },
 "nbformat": 4,
 "nbformat_minor": 2
}
