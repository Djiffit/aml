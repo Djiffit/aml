{
 "cells": [
  {
   "cell_type": "code",
   "execution_count": 40,
   "metadata": {},
   "outputs": [],
   "source": [
    "import numpy as np\n",
    "import matplotlib.pyplot as plt\n",
    "from sklearn.cluster import KMeans as kmeans\n"
   ]
  },
  {
   "cell_type": "code",
   "execution_count": 17,
   "metadata": {},
   "outputs": [],
   "source": [
    "data = np.loadtxt('ex3d.csv', delimiter=',')\n",
    "rows, cols = data.shape"
   ]
  },
  {
   "cell_type": "code",
   "execution_count": 36,
   "metadata": {},
   "outputs": [],
   "source": [
    "dist = np.zeros((rows, rows))"
   ]
  },
  {
   "cell_type": "code",
   "execution_count": 31,
   "metadata": {},
   "outputs": [],
   "source": [
    "for i in range(rows):\n",
    "    for j in range(i + 1, rows):\n",
    "        x = data[i]\n",
    "        y = data[j]\n",
    "        dist[i, j] = np.sqrt(np.sum(x - y) ** 2)\n"
   ]
  },
  {
   "cell_type": "code",
   "execution_count": 69,
   "metadata": {},
   "outputs": [
    {
     "data": {
      "image/png": "[encoded data removed]",
      "text/plain": [
       "<matplotlib.figure.Figure at 0x1114aef98>"
      ]
     },
     "metadata": {},
     "output_type": "display_data"
    }
   ],
   "source": [
    "plt.scatter(data[:,0], data[:,1])\n",
    "plt.title('Scatter plot of the data points')\n",
    "plt.show()"
   ]
  },
  {
   "cell_type": "code",
   "execution_count": 70,
   "metadata": {},
   "outputs": [
    {
     "data": {
      "image/png": "[encoded data removed]",
      "text/plain": [
       "<matplotlib.figure.Figure at 0x1a16149b38>"
      ]
     },
     "metadata": {},
     "output_type": "display_data"
    }
   ],
   "source": [
    "classified = kmeans(n_clusters=2).fit(data)\n",
    "for x, y, l in zip(data[:,0], data[:,1], classified.labels_):\n",
    "    if l == 1:\n",
    "        plt.scatter(x, y, color='red')\n",
    "    else:\n",
    "        plt.scatter(x, y, color='blue')\n",
    "        \n",
    "\n",
    "for x, y in classified.cluster_centers_:\n",
    "    plt.scatter(x, y, s=250, marker='^')\n",
    "    \n",
    "plt.title('Sklearn kmeans with clusters centers marked as triangles')\n",
    "plt.show()\n",
    "                   "
   ]
  },
  {
   "cell_type": "code",
   "execution_count": 46,
   "metadata": {},
   "outputs": [
    {
     "data": {
      "text/plain": [
       "[(array([ 0.321, -1.002]), 1),\n",
       " (array([ 0.342, -0.901]), 1),\n",
       " (array([ 0.399, -0.941]), 1),\n",
       " (array([ 0.463, -0.905]), 1),\n",
       " (array([ 0.494, -0.822]), 1),\n",
       " (array([ 0.595, -0.858]), 1),\n",
       " (array([ 0.559, -0.757]), 1),\n",
       " (array([ 0.6  , -0.768]), 1),\n",
       " (array([ 0.62 , -0.796]), 1),\n",
       " (array([ 0.769, -0.752]), 1),\n",
       " (array([ 0.71 , -0.743]), 1),\n",
       " (array([ 0.784, -0.677]), 1),\n",
       " (array([ 0.759, -0.596]), 1),\n",
       " (array([ 0.802, -0.577]), 1),\n",
       " (array([ 0.842, -0.582]), 1),\n",
       " (array([ 0.768, -0.596]), 1),\n",
       " (array([ 0.903, -0.549]), 1),\n",
       " (array([ 0.897, -0.495]), 1),\n",
       " (array([ 0.847, -0.51 ]), 1),\n",
       " (array([ 0.885, -0.413]), 0),\n",
       " (array([ 0.869, -0.397]), 0),\n",
       " (array([ 0.901, -0.335]), 0),\n",
       " (array([ 0.883, -0.325]), 0),\n",
       " (array([ 0.898, -0.257]), 0),\n",
       " (array([ 1.052, -0.22 ]), 0),\n",
       " (array([ 0.975, -0.15 ]), 0),\n",
       " (array([ 0.979, -0.122]), 0),\n",
       " (array([ 0.989, -0.151]), 0),\n",
       " (array([ 0.982, -0.072]), 0),\n",
       " (array([ 1.052, -0.018]), 0),\n",
       " (array([1.074, 0.006]), 0),\n",
       " (array([0.991, 0.115]), 0),\n",
       " (array([1.008, 0.064]), 0),\n",
       " (array([1.022, 0.116]), 0),\n",
       " (array([1.006, 0.154]), 0),\n",
       " (array([0.991, 0.192]), 0),\n",
       " (array([0.955, 0.221]), 0),\n",
       " (array([0.882, 0.301]), 0),\n",
       " (array([0.983, 0.312]), 0),\n",
       " (array([1.01 , 0.389]), 0),\n",
       " (array([0.883, 0.459]), 0),\n",
       " (array([0.879, 0.404]), 0),\n",
       " (array([0.889, 0.451]), 0),\n",
       " (array([0.887, 0.523]), 0),\n",
       " (array([0.811, 0.504]), 0),\n",
       " (array([0.752, 0.625]), 0),\n",
       " (array([0.779, 0.628]), 0),\n",
       " (array([0.761, 0.604]), 0),\n",
       " (array([0.745, 0.654]), 0),\n",
       " (array([0.716, 0.76 ]), 0),\n",
       " (array([0.683, 0.764]), 0),\n",
       " (array([0.656, 0.802]), 0),\n",
       " (array([0.637, 0.848]), 0),\n",
       " (array([0.617, 0.805]), 0),\n",
       " (array([0.567, 0.86 ]), 0),\n",
       " (array([0.518, 0.863]), 0),\n",
       " (array([0.385, 0.878]), 0),\n",
       " (array([0.419, 0.912]), 0),\n",
       " (array([0.421, 0.891]), 0),\n",
       " (array([0.42, 1.03]), 0),\n",
       " (array([ 0.467, -1.482]), 1),\n",
       " (array([ 0.345, -1.361]), 1),\n",
       " (array([ 0.326, -1.387]), 1),\n",
       " (array([ 0.253, -1.477]), 1),\n",
       " (array([ 0.275, -1.336]), 1),\n",
       " (array([ 0.292, -1.305]), 1),\n",
       " (array([ 0.206, -1.326]), 1),\n",
       " (array([ 0.208, -1.374]), 1),\n",
       " (array([ 0.177, -1.311]), 1),\n",
       " (array([ 0.131, -1.217]), 1),\n",
       " (array([ 0.009, -1.187]), 1),\n",
       " (array([ 0.113, -1.199]), 1),\n",
       " (array([-0.011, -1.054]), 1),\n",
       " (array([ 0.042, -1.168]), 1),\n",
       " (array([-0.02 , -1.129]), 1),\n",
       " (array([-0.02 , -0.998]), 1),\n",
       " (array([-0.065, -0.966]), 1),\n",
       " (array([ 0.031, -0.918]), 1),\n",
       " (array([-0.064, -0.978]), 1),\n",
       " (array([-0.107, -0.912]), 1),\n",
       " (array([-0.132, -0.871]), 1),\n",
       " (array([-0.152, -0.877]), 1),\n",
       " (array([-0.171, -0.77 ]), 1),\n",
       " (array([-0.142, -0.746]), 1),\n",
       " (array([-0.142, -0.714]), 1),\n",
       " (array([-0.18 , -0.734]), 1),\n",
       " (array([-0.213, -0.661]), 1),\n",
       " (array([-0.206, -0.6  ]), 1),\n",
       " (array([-0.234, -0.531]), 1),\n",
       " (array([-0.174, -0.511]), 1),\n",
       " (array([-0.255, -0.492]), 1),\n",
       " (array([-0.15 , -0.495]), 1),\n",
       " (array([-0.226, -0.35 ]), 1),\n",
       " (array([-0.197, -0.338]), 1),\n",
       " (array([-0.146, -0.319]), 1),\n",
       " (array([-0.172, -0.274]), 1),\n",
       " (array([-0.262, -0.298]), 1),\n",
       " (array([-0.145, -0.221]), 1),\n",
       " (array([-0.127, -0.204]), 1),\n",
       " (array([-0.157, -0.142]), 1),\n",
       " (array([-0.096, -0.083]), 1),\n",
       " (array([-0.096, -0.043]), 0),\n",
       " (array([-0.059, -0.023]), 0),\n",
       " (array([-0.069,  0.086]), 0),\n",
       " (array([0.012, 0.068]), 0),\n",
       " (array([0.06 , 0.043]), 0),\n",
       " (array([0.051, 0.091]), 0),\n",
       " (array([0.084, 0.197]), 0),\n",
       " (array([0.166, 0.14 ]), 0),\n",
       " (array([0.032, 0.168]), 0),\n",
       " (array([0.154, 0.171]), 0),\n",
       " (array([0.197, 0.253]), 0),\n",
       " (array([0.157, 0.218]), 0),\n",
       " (array([0.144, 0.256]), 0),\n",
       " (array([0.29 , 0.278]), 0),\n",
       " (array([0.262, 0.427]), 0),\n",
       " (array([0.339, 0.39 ]), 0),\n",
       " (array([0.356, 0.388]), 0),\n",
       " (array([0.374, 0.376]), 0),\n",
       " (array([0.482, 0.441]), 0)]"
      ]
     },
     "execution_count": 46,
     "metadata": {},
     "output_type": "execute_result"
    }
   ],
   "source": [
    "list(zip(data, classified.labels_))"
   ]
  },
  {
   "cell_type": "code",
   "execution_count": null,
   "metadata": {},
   "outputs": [],
   "source": []
  }
 ],
 "metadata": {
  "kernelspec": {
   "display_name": "Python 3",
   "language": "python",
   "name": "python3"
  },
  "language_info": {
   "codemirror_mode": {
    "name": "ipython",
    "version": 3
   },
   "file_extension": ".py",
   "mimetype": "text/x-python",
   "name": "python",
   "nbconvert_exporter": "python",
   "pygments_lexer": "ipython3",
   "version": "3.6.4"
  }
 },
 "nbformat": 4,
 "nbformat_minor": 2
}
